{
  "nbformat": 4,
  "nbformat_minor": 0,
  "metadata": {
    "colab": {
      "name": "FinalProject",
      "provenance": [],
      "collapsed_sections": []
    },
    "kernelspec": {
      "name": "python3",
      "display_name": "Python 3"
    },
    "language_info": {
      "name": "python"
    }
  },
  "cells": [
    {
      "cell_type": "markdown",
      "source": [
        "# **Analyzing Motor Vehicle Accidents in New York City in 2021**"
      ],
      "metadata": {
        "id": "ctHQbGpatgRx"
      }
    },
    {
      "cell_type": "markdown",
      "source": [
        "Akriti Tripathi,\n",
        "Mehak Hans,\n",
        "Radhika Bapat"
      ],
      "metadata": {
        "id": "PskUGtFVtrwH"
      }
    },
    {
      "cell_type": "markdown",
      "source": [
        "# Outline\n",
        "\n",
        "\n",
        "\n",
        "*   Introduction \n",
        "*   Libaries Used \n",
        "*   About the data \n",
        "> - Data Source \n",
        "> - Data Load and View \n",
        "\n",
        "*   Analysis & Data Visualization \n",
        "*   Hypothesis Testing & Machine Learning Algorithm \n",
        "*   Conclusion \n",
        "\n",
        "\n",
        "\n",
        "\n",
        "\n",
        "\n",
        "\n",
        "\n",
        "\n",
        "\n",
        "\n",
        "\n",
        "\n",
        "\n",
        "\n",
        "\n",
        "\n"
      ],
      "metadata": {
        "id": "Cm4-tjEs8oSj"
      }
    },
    {
      "cell_type": "markdown",
      "source": [
        "##**Introduction:**\n",
        "New York City is one of the largest cities in the US with a population of 8.8 million. Due to this, there is constant traffic on the road and also a lot of pedestrians. Thus, car accidents are more likely to happen in a place very crowded. There are also a lot of ubers and taxis in NYC that add to the traffic and vehicles. In this project, we wanted to analyze the motor vehicle accidents that happen in NYC. Specifically we wanted to analyze the relationship between gender, age, time, and month of the crash as well as safety equipment and types of injuries to see which result in death or just injuries to find trends in the dataset. "
      ],
      "metadata": {
        "id": "8L6XNLjfBmc3"
      }
    },
    {
      "cell_type": "markdown",
      "source": [
        "First, we imported the libarires that we would be using in our code. We also went ahead and read the csv file with the dataset and stored it as a dataframe."
      ],
      "metadata": {
        "id": "q1puNrQEv7_e"
      }
    },
    {
      "cell_type": "markdown",
      "source": [
        "## Libraries Used"
      ],
      "metadata": {
        "id": "gXebg4cL9u1b"
      }
    },
    {
      "cell_type": "markdown",
      "source": [
        "\n",
        "*   Pandas: Used to display and organize in dataframes\n",
        "*   Numpy: Used to support our data\n",
        "*   Seaborn: Used to create plot\n",
        "*   Matplotlib: Used to format plots\n",
        "*   Scikit-learn: Used for predictive analysis tools\n",
        "\n",
        "\n"
      ],
      "metadata": {
        "id": "C8nmOZ7_9ylu"
      }
    },
    {
      "cell_type": "code",
      "source": [
        "import numpy as np\n",
        "import pandas as pd\n",
        "import matplotlib.pyplot as plt\n",
        "import seaborn as sns\n",
        "import matplotlib.pyplot\n",
        "import matplotlib.dates\n",
        "from datetime import datetime\n",
        "from sklearn.cluster import KMeans\n",
        "from sklearn import linear_model\n",
        "from sklearn.preprocessing import PolynomialFeatures"
      ],
      "metadata": {
        "id": "KLayUWcK-ONF"
      },
      "execution_count": null,
      "outputs": []
    },
    {
      "cell_type": "markdown",
      "source": [
        "## **About the Data**"
      ],
      "metadata": {
        "id": "0rNbYS14-KAp"
      }
    },
    {
      "cell_type": "markdown",
      "source": [
        "The dataset we are using is data of a collision accident between a person and a motor vehicle that occurred in New York in 2021. "
      ],
      "metadata": {
        "id": "Trea-luX-SVO"
      }
    },
    {
      "cell_type": "markdown",
      "source": [
        "**Data Source **\n",
        "\n",
        "The datasource we got this from is Kaggle, here is the link to the kaggle page https://www.kaggle.com/kukuroo3/nyc-motor-vehicle-collisions-to-person\n",
        "\n",
        "City of New York https://data.cityofnewyork.us/"
      ],
      "metadata": {
        "id": "ZU42Q_eq-_od"
      }
    },
    {
      "cell_type": "markdown",
      "source": [
        "Here we are going to load the data from the website and print out the first 5 columns of the dataset "
      ],
      "metadata": {
        "id": "Y0_lJSj8_U5m"
      }
    },
    {
      "cell_type": "code",
      "execution_count": null,
      "metadata": {
        "colab": {
          "base_uri": "https://localhost:8080/",
          "height": 513
        },
        "id": "KwzIQCjHWuii",
        "outputId": "cf0d71f9-1578-40cf-8a9d-068b974ca364"
      },
      "outputs": [
        {
          "output_type": "execute_result",
          "data": {
            "text/html": [
              "\n",
              "  <div id=\"df-6f1595d5-f7a1-432e-b968-fcff78f6a644\">\n",
              "    <div class=\"colab-df-container\">\n",
              "      <div>\n",
              "<style scoped>\n",
              "    .dataframe tbody tr th:only-of-type {\n",
              "        vertical-align: middle;\n",
              "    }\n",
              "\n",
              "    .dataframe tbody tr th {\n",
              "        vertical-align: top;\n",
              "    }\n",
              "\n",
              "    .dataframe thead th {\n",
              "        text-align: right;\n",
              "    }\n",
              "</style>\n",
              "<table border=\"1\" class=\"dataframe\">\n",
              "  <thead>\n",
              "    <tr style=\"text-align: right;\">\n",
              "      <th></th>\n",
              "      <th>CRASH_DATE</th>\n",
              "      <th>CRASH_TIME</th>\n",
              "      <th>PERSON_INJURY</th>\n",
              "      <th>PERSON_AGE</th>\n",
              "      <th>BODILY_INJURY</th>\n",
              "      <th>SAFETY_EQUIPMENT</th>\n",
              "      <th>PERSON_SEX</th>\n",
              "      <th>PERSON_TYPE</th>\n",
              "      <th>PED_LOCATION</th>\n",
              "      <th>CONTRIBUTING_FACTOR_2</th>\n",
              "      <th>EJECTION</th>\n",
              "      <th>COMPLAINT</th>\n",
              "      <th>EMOTIONAL_STATUS</th>\n",
              "      <th>VEHICLE_ID</th>\n",
              "      <th>PERSON_ID</th>\n",
              "      <th>CONTRIBUTING_FACTOR_1</th>\n",
              "      <th>POSITION_IN_VEHICLE</th>\n",
              "      <th>PED_ROLE</th>\n",
              "      <th>UNIQUE_ID</th>\n",
              "      <th>PED_ACTION</th>\n",
              "      <th>COLLISION_ID</th>\n",
              "    </tr>\n",
              "  </thead>\n",
              "  <tbody>\n",
              "    <tr>\n",
              "      <th>0</th>\n",
              "      <td>2021-05-02</td>\n",
              "      <td>21:00</td>\n",
              "      <td>Killed</td>\n",
              "      <td>62.0</td>\n",
              "      <td>Head</td>\n",
              "      <td>NaN</td>\n",
              "      <td>F</td>\n",
              "      <td>Pedestrian</td>\n",
              "      <td>Pedestrian/Bicyclist/Other Pedestrian at Inter...</td>\n",
              "      <td>Pedestrian/Bicyclist/Other Pedestrian Error/Co...</td>\n",
              "      <td>NaN</td>\n",
              "      <td>Severe Bleeding</td>\n",
              "      <td>Apparent Death</td>\n",
              "      <td>NaN</td>\n",
              "      <td>f2f329b6-2dfc-4bd0-b751-2e4255f1ea06</td>\n",
              "      <td>Traffic Control Disregarded</td>\n",
              "      <td>NaN</td>\n",
              "      <td>Pedestrian</td>\n",
              "      <td>11791937</td>\n",
              "      <td>Crossing Against Signal</td>\n",
              "      <td>4412948</td>\n",
              "    </tr>\n",
              "    <tr>\n",
              "      <th>1</th>\n",
              "      <td>2021-05-21</td>\n",
              "      <td>0:00</td>\n",
              "      <td>Killed</td>\n",
              "      <td>24.0</td>\n",
              "      <td>Entire Body</td>\n",
              "      <td>Air Bag Deployed</td>\n",
              "      <td>M</td>\n",
              "      <td>Occupant</td>\n",
              "      <td>NaN</td>\n",
              "      <td>NaN</td>\n",
              "      <td>Trapped</td>\n",
              "      <td>Internal</td>\n",
              "      <td>Apparent Death</td>\n",
              "      <td>19986231.0</td>\n",
              "      <td>e27e12a2-0485-4e22-b692-3f8a765d2582</td>\n",
              "      <td>NaN</td>\n",
              "      <td>Driver</td>\n",
              "      <td>Driver</td>\n",
              "      <td>11819198</td>\n",
              "      <td>NaN</td>\n",
              "      <td>4419608</td>\n",
              "    </tr>\n",
              "    <tr>\n",
              "      <th>2</th>\n",
              "      <td>2021-10-15</td>\n",
              "      <td>2:00</td>\n",
              "      <td>Killed</td>\n",
              "      <td>30.0</td>\n",
              "      <td>Head</td>\n",
              "      <td>None</td>\n",
              "      <td>M</td>\n",
              "      <td>Occupant</td>\n",
              "      <td>NaN</td>\n",
              "      <td>NaN</td>\n",
              "      <td>Not Ejected</td>\n",
              "      <td>Internal</td>\n",
              "      <td>Apparent Death</td>\n",
              "      <td>20091024.0</td>\n",
              "      <td>1a6f5aa7-5125-4be2-8499-fe7977cb0d90</td>\n",
              "      <td>NaN</td>\n",
              "      <td>Driver</td>\n",
              "      <td>Driver</td>\n",
              "      <td>11998317</td>\n",
              "      <td>NaN</td>\n",
              "      <td>4467504</td>\n",
              "    </tr>\n",
              "    <tr>\n",
              "      <th>3</th>\n",
              "      <td>2021-04-17</td>\n",
              "      <td>13:00</td>\n",
              "      <td>Killed</td>\n",
              "      <td>71.0</td>\n",
              "      <td>Head</td>\n",
              "      <td>NaN</td>\n",
              "      <td>M</td>\n",
              "      <td>Pedestrian</td>\n",
              "      <td>Pedestrian/Bicyclist/Other Pedestrian Not at I...</td>\n",
              "      <td>Unspecified</td>\n",
              "      <td>NaN</td>\n",
              "      <td>Internal</td>\n",
              "      <td>Unconscious</td>\n",
              "      <td>NaN</td>\n",
              "      <td>b950706b-00a4-485c-84c5-777208cc3cc9</td>\n",
              "      <td>Pedestrian/Bicyclist/Other Pedestrian Error/Co...</td>\n",
              "      <td>NaN</td>\n",
              "      <td>Pedestrian</td>\n",
              "      <td>11745791</td>\n",
              "      <td>Crossing, No Signal, or Crosswalk</td>\n",
              "      <td>4408062</td>\n",
              "    </tr>\n",
              "    <tr>\n",
              "      <th>4</th>\n",
              "      <td>2021-05-25</td>\n",
              "      <td>22:00</td>\n",
              "      <td>Killed</td>\n",
              "      <td>69.0</td>\n",
              "      <td>Entire Body</td>\n",
              "      <td>NaN</td>\n",
              "      <td>F</td>\n",
              "      <td>Pedestrian</td>\n",
              "      <td>Pedestrian/Bicyclist/Other Pedestrian Not at I...</td>\n",
              "      <td>Unspecified</td>\n",
              "      <td>NaN</td>\n",
              "      <td>None Visible</td>\n",
              "      <td>Conscious</td>\n",
              "      <td>NaN</td>\n",
              "      <td>6504ea0a-c92d-444c-8127-284943be9aac</td>\n",
              "      <td>Unspecified</td>\n",
              "      <td>NaN</td>\n",
              "      <td>Pedestrian</td>\n",
              "      <td>11991283</td>\n",
              "      <td>Crossing, No Signal, Marked Crosswalk</td>\n",
              "      <td>4420918</td>\n",
              "    </tr>\n",
              "  </tbody>\n",
              "</table>\n",
              "</div>\n",
              "      <button class=\"colab-df-convert\" onclick=\"convertToInteractive('df-6f1595d5-f7a1-432e-b968-fcff78f6a644')\"\n",
              "              title=\"Convert this dataframe to an interactive table.\"\n",
              "              style=\"display:none;\">\n",
              "        \n",
              "  <svg xmlns=\"http://www.w3.org/2000/svg\" height=\"24px\"viewBox=\"0 0 24 24\"\n",
              "       width=\"24px\">\n",
              "    <path d=\"M0 0h24v24H0V0z\" fill=\"none\"/>\n",
              "    <path d=\"M18.56 5.44l.94 2.06.94-2.06 2.06-.94-2.06-.94-.94-2.06-.94 2.06-2.06.94zm-11 1L8.5 8.5l.94-2.06 2.06-.94-2.06-.94L8.5 2.5l-.94 2.06-2.06.94zm10 10l.94 2.06.94-2.06 2.06-.94-2.06-.94-.94-2.06-.94 2.06-2.06.94z\"/><path d=\"M17.41 7.96l-1.37-1.37c-.4-.4-.92-.59-1.43-.59-.52 0-1.04.2-1.43.59L10.3 9.45l-7.72 7.72c-.78.78-.78 2.05 0 2.83L4 21.41c.39.39.9.59 1.41.59.51 0 1.02-.2 1.41-.59l7.78-7.78 2.81-2.81c.8-.78.8-2.07 0-2.86zM5.41 20L4 18.59l7.72-7.72 1.47 1.35L5.41 20z\"/>\n",
              "  </svg>\n",
              "      </button>\n",
              "      \n",
              "  <style>\n",
              "    .colab-df-container {\n",
              "      display:flex;\n",
              "      flex-wrap:wrap;\n",
              "      gap: 12px;\n",
              "    }\n",
              "\n",
              "    .colab-df-convert {\n",
              "      background-color: #E8F0FE;\n",
              "      border: none;\n",
              "      border-radius: 50%;\n",
              "      cursor: pointer;\n",
              "      display: none;\n",
              "      fill: #1967D2;\n",
              "      height: 32px;\n",
              "      padding: 0 0 0 0;\n",
              "      width: 32px;\n",
              "    }\n",
              "\n",
              "    .colab-df-convert:hover {\n",
              "      background-color: #E2EBFA;\n",
              "      box-shadow: 0px 1px 2px rgba(60, 64, 67, 0.3), 0px 1px 3px 1px rgba(60, 64, 67, 0.15);\n",
              "      fill: #174EA6;\n",
              "    }\n",
              "\n",
              "    [theme=dark] .colab-df-convert {\n",
              "      background-color: #3B4455;\n",
              "      fill: #D2E3FC;\n",
              "    }\n",
              "\n",
              "    [theme=dark] .colab-df-convert:hover {\n",
              "      background-color: #434B5C;\n",
              "      box-shadow: 0px 1px 3px 1px rgba(0, 0, 0, 0.15);\n",
              "      filter: drop-shadow(0px 1px 2px rgba(0, 0, 0, 0.3));\n",
              "      fill: #FFFFFF;\n",
              "    }\n",
              "  </style>\n",
              "\n",
              "      <script>\n",
              "        const buttonEl =\n",
              "          document.querySelector('#df-6f1595d5-f7a1-432e-b968-fcff78f6a644 button.colab-df-convert');\n",
              "        buttonEl.style.display =\n",
              "          google.colab.kernel.accessAllowed ? 'block' : 'none';\n",
              "\n",
              "        async function convertToInteractive(key) {\n",
              "          const element = document.querySelector('#df-6f1595d5-f7a1-432e-b968-fcff78f6a644');\n",
              "          const dataTable =\n",
              "            await google.colab.kernel.invokeFunction('convertToInteractive',\n",
              "                                                     [key], {});\n",
              "          if (!dataTable) return;\n",
              "\n",
              "          const docLinkHtml = 'Like what you see? Visit the ' +\n",
              "            '<a target=\"_blank\" href=https://colab.research.google.com/notebooks/data_table.ipynb>data table notebook</a>'\n",
              "            + ' to learn more about interactive tables.';\n",
              "          element.innerHTML = '';\n",
              "          dataTable['output_type'] = 'display_data';\n",
              "          await google.colab.output.renderOutput(dataTable, element);\n",
              "          const docLink = document.createElement('div');\n",
              "          docLink.innerHTML = docLinkHtml;\n",
              "          element.appendChild(docLink);\n",
              "        }\n",
              "      </script>\n",
              "    </div>\n",
              "  </div>\n",
              "  "
            ],
            "text/plain": [
              "   CRASH_DATE CRASH_TIME  ...                             PED_ACTION  COLLISION_ID\n",
              "0  2021-05-02      21:00  ...                Crossing Against Signal       4412948\n",
              "1  2021-05-21       0:00  ...                                    NaN       4419608\n",
              "2  2021-10-15       2:00  ...                                    NaN       4467504\n",
              "3  2021-04-17      13:00  ...      Crossing, No Signal, or Crosswalk       4408062\n",
              "4  2021-05-25      22:00  ...  Crossing, No Signal, Marked Crosswalk       4420918\n",
              "\n",
              "[5 rows x 21 columns]"
            ]
          },
          "metadata": {},
          "execution_count": 16
        }
      ],
      "source": [
        "df = pd.read_csv(\"NYC_Motor_Vehicle_Collisions_to_Person.csv\")\n",
        "df.head()"
      ]
    },
    {
      "cell_type": "markdown",
      "source": [
        "## **Analysis and Data Visualization**"
      ],
      "metadata": {
        "id": "BqrHK4Iawrgd"
      }
    },
    {
      "cell_type": "markdown",
      "source": [
        "Now we are going to process the data by some of the columns of the dataset to analyze the relationship between car crashes and gender, time and month of year. We are also going to look and analyze which injuries most often result in death and how safety equipment plays a role in decreasing injuries for occupants "
      ],
      "metadata": {
        "id": "URhTUJR9_mBU"
      }
    },
    {
      "cell_type": "code",
      "source": [
        "#Analysis between number of crashes between male vs female\n",
        "#Plots the total crashes between men and female\n",
        "male_count = 0\n",
        "female_count = 0\n",
        "U_count = 0\n",
        "for data in df['PERSON_SEX']:\n",
        "    if data == 'M':\n",
        "      male_count += 1\n",
        "    elif data == 'F':\n",
        "      female_count += 1\n",
        "    elif data == \"U\":\n",
        "      U_count +=1\n",
        "index = [\"Male\", \"Female\", \"U\"]\n",
        "gender = [male_count, female_count, U_count]\n",
        "plt.figure(figsize=(13,7))\n",
        "plt.bar(index, gender, align='center',color=['blue', 'pink', 'black'])\n",
        "plt.title('Number of crashes based on Gender in 2021')\n",
        "plt.xlabel('Gender')\n",
        "plt.ylabel('Count of Crashes')\n",
        "plt.show()\n",
        "\n",
        "\n",
        "male_count_kills = 0\n",
        "female_count_kills = 0\n",
        "male_count_injured = 0\n",
        "female_count_injured = 0\n",
        "for index, rows in df.iterrows():\n",
        "    if rows['PERSON_SEX']=='M' and rows['PERSON_INJURY']=='Killed':\n",
        "      male_count_kills += 1\n",
        "    elif rows['PERSON_SEX'] == 'F' and rows['PERSON_INJURY']=='Killed':\n",
        "      female_count_kills += 1\n",
        "    elif rows['PERSON_SEX']=='M' and rows['PERSON_INJURY']=='Injured':\n",
        "      male_count_injured += 1\n",
        "    elif rows['PERSON_SEX'] == 'F' and rows['PERSON_INJURY']=='Injured':\n",
        "      female_count_injured += 1\n",
        "\n",
        "#Plots the total crashes between men and female that are killed\n",
        "index = [\"Male killed\", \"Female killed\"]\n",
        "gender = [male_count_kills, female_count_kills]\n",
        "plt.figure(figsize=(13,7))\n",
        "plt.bar(index, gender, align='center', color=['blue', 'pink'])\n",
        "plt.title('Number of killed based on Gender in 2021')\n",
        "plt.xlabel('Gender')\n",
        "plt.ylabel('Count of crashes')\n",
        "plt.show()\n",
        "\n",
        "#Plots the total crashes between men and female that are injured\n",
        "index = [\"Male Injured\", \"Female Injured\"]\n",
        "gender = [male_count_injured, female_count_injured]\n",
        "plt.figure(figsize=(13,7))\n",
        "plt.bar(index, gender, align='center', color=['blue', 'pink'])\n",
        "plt.title('Number of injured based on Gender in 2021')\n",
        "plt.xlabel('Gender')\n",
        "plt.ylabel('Count of crashes')\n",
        "plt.show()"
      ],
      "metadata": {
        "colab": {
          "base_uri": "https://localhost:8080/",
          "height": 1000
        },
        "id": "gWma-5XemZKy",
        "outputId": "e72cad03-8bd3-48b4-f170-f234c779104d"
      },
      "execution_count": null,
      "outputs": [
        {
          "output_type": "display_data",
          "data": {
            "image/png": "[encoded data removed]",
            "text/plain": [
              "<Figure size 936x504 with 1 Axes>"
            ]
          },
          "metadata": {
            "needs_background": "light"
          }
        },
        {
          "output_type": "display_data",
          "data": {
            "image/png": "[encoded data removed]",
            "text/plain": [
              "<Figure size 936x504 with 1 Axes>"
            ]
          },
          "metadata": {
            "needs_background": "light"
          }
        },
        {
          "output_type": "display_data",
          "data": {
            "image/png": "[encoded data removed]",
            "text/plain": [
              "<Figure size 936x504 with 1 Axes>"
            ]
          },
          "metadata": {
            "needs_background": "light"
          }
        }
      ]
    },
    {
      "cell_type": "markdown",
      "source": [
        "From these graphs we can see that male drivers were more likely to get into crashes. In the first graph we first looked at the total amount of crashes and see who was most likely to get into a crash. Based on this graph we can conclude that Males were more likely to get into a crash by almost double. Next, we decided to look at the specific crashes to see the difference between killed and injured. We found that the injured ratio was similar to the ratio for the total crashes. However, for the numbers killed in the crash it can be seen that males in a crash had a signficiatnly high percentage of getting killed than females."
      ],
      "metadata": {
        "id": "fyPxpIiSPYee"
      }
    },
    {
      "cell_type": "markdown",
      "source": [
        "Now we are going to analyze at which time there were the most crashes and when there were the lowest number of crashes. "
      ],
      "metadata": {
        "id": "b2I3UmPYDpIC"
      }
    },
    {
      "cell_type": "code",
      "source": [
        "df['CRASH_TIME'] = df['CRASH_TIME'].replace(' :00', np.nan)\n",
        "df.dropna()\n",
        "df['CRASH_TIME'] = pd.to_datetime(df['CRASH_TIME'],format= '%H:%M').dt.time\n",
        "\n",
        "#prints a line plot of the time and number of crashes\n",
        "df['CRASH_TIME'].value_counts().plot.line(figsize=(20,5))\n",
        "plt.title('Number of Accidents vs. Time')\n",
        "plt.xlabel('Time')\n",
        "plt.ylabel('Number of Accidents')\n",
        "plt.show()"
      ],
      "metadata": {
        "colab": {
          "base_uri": "https://localhost:8080/",
          "height": 305
        },
        "id": "GdrSEgp9B1vi",
        "outputId": "5c8b5907-6f74-4a2c-eb83-192f52435296"
      },
      "execution_count": null,
      "outputs": [
        {
          "output_type": "display_data",
          "data": {
            "image/png": "[encoded data removed]",
            "text/plain": [
              "<Figure size 1440x360 with 1 Axes>"
            ]
          },
          "metadata": {
            "needs_background": "light"
          }
        }
      ]
    },
    {
      "cell_type": "markdown",
      "source": [
        "This plot shows that the most number of accident happen at 16:00. Based off of this data, the most about of accidents happen during the day specifically from evening to night. The least amount of accidents happen from 1:00 - 6:00 am. This shows that the least accidents happen early morning because there are the least number of people on the road at this time. Based off of the graph it shows that the most crahes happen during rush hour when people finish work. "
      ],
      "metadata": {
        "id": "J_RJl6yumCY7"
      }
    },
    {
      "cell_type": "markdown",
      "source": [
        "Now we are going to specifically analyze in which month crashes happened the most and if there was a correlation between months and crashes. We used value_counts which is a pandas method to count the number of crashes in a certain month. We then printed out this bar graph based off of the counts."
      ],
      "metadata": {
        "id": "XQQFvex2D6Nr"
      }
    },
    {
      "cell_type": "code",
      "source": [
        "#converts the crash date column into date time format\n",
        "df['CRASH_DATE'] = pd.to_datetime(df['CRASH_DATE'])\n",
        "#creates a new column in the data frame with just the month number\n",
        "df['month'] = df['CRASH_DATE'].dt.month\n",
        "#counts how many crashes happened in a particular month\n",
        "month_counts = df['month'].value_counts().astype(int)\n",
        "print(month_counts)\n",
        "#plots a bar graph showing the number of accidents vs. month\n",
        "plt.title('Number of crashes vs. Month')\n",
        "plt.xlabel('Month Number')\n",
        "plt.ylabel('Count of crashes')\n",
        "month_counts.plot(kind = 'bar')"
      ],
      "metadata": {
        "colab": {
          "base_uri": "https://localhost:8080/",
          "height": 524
        },
        "id": "Ov00x0rEMuf8",
        "outputId": "6aa1aa78-7f3e-4630-fa6f-47c9622a1d56"
      },
      "execution_count": null,
      "outputs": [
        {
          "output_type": "stream",
          "name": "stdout",
          "text": [
            "6     5111\n",
            "5     5066\n",
            "10    5026\n",
            "9     4986\n",
            "8     4932\n",
            "7     4855\n",
            "4     4121\n",
            "3     3545\n",
            "1     3116\n",
            "2     2561\n",
            "11    2350\n",
            "Name: month, dtype: int64\n"
          ]
        },
        {
          "output_type": "execute_result",
          "data": {
            "text/plain": [
              "<matplotlib.axes._subplots.AxesSubplot at 0x7fefde37d610>"
            ]
          },
          "metadata": {},
          "execution_count": 19
        },
        {
          "output_type": "display_data",
          "data": {
            "image/png": "[encoded data removed]",
            "text/plain": [
              "<Figure size 432x288 with 1 Axes>"
            ]
          },
          "metadata": {
            "needs_background": "light"
          }
        }
      ]
    },
    {
      "cell_type": "markdown",
      "source": [
        "As seen from this graph, it can be seen that the most amount of crashes happened in June. This is when summer starts so this is the time when NYC has the biggest number of tourists because people have breaks. Additionally, it can be seen that for months 1-4 there progressively started becoming more crashes. This can be a result of COVID-19. With strict restirctions and rising cases nobody was going to NYC in the beginning of 2021. However, as the mask mandate was lifted it can be seen that there were more crashes due to a higher population and more tourism. Novemeber is an outlier because it is low. This can be caused because this dataset is in 2021, so not all of November was recorded. "
      ],
      "metadata": {
        "id": "gjj2shPklk7o"
      }
    },
    {
      "cell_type": "markdown",
      "source": [
        "We want to go ahead and see which injuries from car crashes are the most common within NYC by using pandas value_counts() and plotting it as a pie chart"
      ],
      "metadata": {
        "id": "iwcWcGv36im8"
      }
    },
    {
      "cell_type": "code",
      "source": [
        "#This counts the number og specific injury counts \n",
        "bodily_injury_count = df['BODILY_INJURY'].value_counts()\n",
        "print(bodily_injury_count)"
      ],
      "metadata": {
        "colab": {
          "base_uri": "https://localhost:8080/"
        },
        "id": "qzpS-7Eh6jwC",
        "outputId": "32c47771-6b8c-4582-8e9d-7427a1e416ee"
      },
      "execution_count": null,
      "outputs": [
        {
          "output_type": "stream",
          "name": "stdout",
          "text": [
            "Back                    7505\n",
            "Knee-Lower Leg Foot     7243\n",
            "Neck                    6776\n",
            "Head                    6607\n",
            "Entire Body             3842\n",
            "Elbow-Lower-Arm-Hand    3509\n",
            "Shoulder - Upper Arm    3299\n",
            "Chest                   1645\n",
            "Hip-Upper Leg           1636\n",
            "Unknown                 1542\n",
            "Face                    1158\n",
            "Abdomen - Pelvis         809\n",
            "Eye                       92\n",
            "Does Not Apply             6\n",
            "Name: BODILY_INJURY, dtype: int64\n"
          ]
        }
      ]
    },
    {
      "cell_type": "code",
      "source": [
        "#plots the injury counts in a pie chart to see the percentage of each injury\n",
        "bodily_injury_count.plot(kind='pie')"
      ],
      "metadata": {
        "colab": {
          "base_uri": "https://localhost:8080/",
          "height": 265
        },
        "id": "YJKoKRum60vQ",
        "outputId": "0aa902db-a3a4-4a75-974b-d678cb9d5f52"
      },
      "execution_count": null,
      "outputs": [
        {
          "output_type": "execute_result",
          "data": {
            "text/plain": [
              "<matplotlib.axes._subplots.AxesSubplot at 0x7fefde318390>"
            ]
          },
          "metadata": {},
          "execution_count": 21
        },
        {
          "output_type": "display_data",
          "data": {
            "image/png": "[encoded data removed]",
            "text/plain": [
              "<Figure size 432x288 with 1 Axes>"
            ]
          },
          "metadata": {}
        }
      ]
    },
    {
      "cell_type": "markdown",
      "source": [
        "From the pie chart above you can see that the most common injuries from car crashes in NYC are Neck, Head, Back and Knee-Lower Leg Foot injuries. From the dataset it seems like all of these injuries are similar in count. I expected entire body to be a common injury as well even though it is on the lower end of injuries. Now based on this information, we want to go and see which injuries most often result in death from the car crash."
      ],
      "metadata": {
        "id": "P4ujeG-463yb"
      }
    },
    {
      "cell_type": "code",
      "source": [
        "neck_kills = 0\n",
        "knee_kills = 0 \n",
        "head_kills = 0\n",
        "back_kills = 0\n",
        "full_kills = 0 \n",
        "arm_kills = 0 \n",
        "shoulder_kills = 0\n",
        "chest_kills = 0 \n",
        "leg_kills = 0 \n",
        "face_kills = 0 \n",
        "ab_kills = 0 \n",
        "#iterates through the dataset to find the number of individuals killed based on their type of injury \n",
        "for index, rows in df.iterrows():\n",
        "    if rows['BODILY_INJURY']=='Neck' and rows['PERSON_INJURY']=='Killed':\n",
        "      neck_kills += 1\n",
        "    elif rows['BODILY_INJURY'] == 'Knee-Lower Leg Foot' and rows['PERSON_INJURY']=='Killed':\n",
        "      knee_kills += 1\n",
        "    elif rows['BODILY_INJURY']=='Back' and rows['PERSON_INJURY']=='Killed':\n",
        "      back_kills += 1\n",
        "    elif rows['BODILY_INJURY'] == 'Head' and rows['PERSON_INJURY']=='Killed':\n",
        "      head_kills += 1\n",
        "    elif rows['BODILY_INJURY'] == 'Entire Body' and rows['PERSON_INJURY'] == 'Killed':\n",
        "      full_kills += 1\n",
        "    elif rows['BODILY_INJURY'] == 'Elbow_Lower-Arm-Hand' and rows['PERSON_INJURY'] == 'Killed':\n",
        "      arm_kills += 1\n",
        "    elif rows['BODILY_INJURY'] == 'Shoulder - Upper Arm' and rows['PERSON_INJURY'] == 'Killed':\n",
        "      shoulder_kills += 1\n",
        "    elif rows['BODILY_INJURY'] == 'Chest' and rows['PERSON_INJURY'] == 'Killed':\n",
        "      chest_kills += 1 \n",
        "    elif rows['BODILY_INJURY'] == 'Hit-Upper Leg' and rows['PERSON_INJURY'] == 'Killed':\n",
        "      leg_kills += 1 \n",
        "    elif rows['BODILY_INJURY'] == 'Abdomen-Pelvis' and rows['PERSON_INJURY'] == 'Killed':\n",
        "      ab_kills += 1\n",
        "    elif rows['BODILY_INJURY'] == 'Face' and rows['PERSON_INJURY'] == 'Killed':\n",
        "      face_kills += 1\n",
        "    \n",
        "#plots a bar graph to show how many were killed based on injuries   \n",
        "index = [\"Neck\", \"Knee\", \"Head\", \"Back\", \"Entire Body\", \"Arm\", \"Shoulder\", \"Chest\", \"Leg\", \"Face\", \"Ab\"]\n",
        "kills = [neck_kills, knee_kills, head_kills, back_kills, full_kills, arm_kills, shoulder_kills, chest_kills, \n",
        "        leg_kills, face_kills, ab_kills]\n",
        "plt.figure(figsize=(13,7))\n",
        "plt.bar(index, kills, align='center', color=['red'])\n",
        "plt.title('Number of Killed based on Injury')\n",
        "plt.xlabel('Injury Type')\n",
        "plt.ylabel('Count of Killed')\n",
        "plt.show()\n"
      ],
      "metadata": {
        "colab": {
          "base_uri": "https://localhost:8080/",
          "height": 458
        },
        "id": "2rWHfOY4693l",
        "outputId": "e4857a30-9b0c-4d13-d4c4-4d995f383646"
      },
      "execution_count": null,
      "outputs": [
        {
          "output_type": "display_data",
          "data": {
            "image/png": "[encoded data removed]",
            "text/plain": [
              "<Figure size 936x504 with 1 Axes>"
            ]
          },
          "metadata": {
            "needs_background": "light"
          }
        }
      ]
    },
    {
      "cell_type": "markdown",
      "source": [
        "Based on the above bar chart we can see that head and entire body injuries most often lead to death. Entire body injuries are not as common as head, back, knee and leg injuries however they are the second most likely after head to lead to death. Chest, neck and knee also result in death however a lot less are killed with those injuries. We also see that the other injuries did not result in any death.\n",
        "\n",
        "We did not include the count for unknown bodily injuries/does not apply injuries since we would not be able to gain much information seeing if those variables led to death"
      ],
      "metadata": {
        "id": "A9iauldH7I93"
      }
    },
    {
      "cell_type": "markdown",
      "source": [
        "Now we want to go in and see of the occupants who were in the car how many were injured or killed and how that relates to whether they had a seat belt on or if an air bag deployed using a bar chart."
      ],
      "metadata": {
        "id": "zqp69uXR7MJN"
      }
    },
    {
      "cell_type": "code",
      "source": [
        "#This counts the number of safety equpiments that were used in each accident \n",
        "safety_equipment_count = df['SAFETY_EQUIPMENT'].value_counts()\n",
        "print(safety_equipment_count)"
      ],
      "metadata": {
        "colab": {
          "base_uri": "https://localhost:8080/"
        },
        "id": "cwF2Js2O7O6K",
        "outputId": "e1bc8ec7-573a-40d6-f6da-21bce2f62f77"
      },
      "execution_count": null,
      "outputs": [
        {
          "output_type": "stream",
          "name": "stdout",
          "text": [
            "Lap Belt & Harness                          18184\n",
            "Unknown                                      6818\n",
            "None                                         5942\n",
            "Lap Belt                                     3711\n",
            "Helmet (Motorcycle Only)                     1205\n",
            "Helmet Only (In-Line Skater/Bicyclist)       1047\n",
            "Air Bag Deployed/Lap Belt/Harness             926\n",
            "Child Restraint Only                          490\n",
            "Helmet/Other (In-Line Skater/Bicyclist)       326\n",
            "Air Bag Deployed                              261\n",
            "Other                                         233\n",
            "Air Bag Deployed/Lap Belt                     145\n",
            "Harness                                       104\n",
            "Air Bag Deployed/Child Restraint               26\n",
            "Pads Only (In-Line Skater/Bicyclist)           11\n",
            "Stoppers Only (In-Line Skater/Bicyclist)        5\n",
            "Name: SAFETY_EQUIPMENT, dtype: int64\n"
          ]
        }
      ]
    },
    {
      "cell_type": "markdown",
      "source": [
        "From these variables I only want to look at whether occupants had seat belts on, a harness on, child restraints, or if the airbag was deployed to see how that relates to whether they were injured"
      ],
      "metadata": {
        "id": "Niz20iTk7Tq9"
      }
    },
    {
      "cell_type": "code",
      "source": [
        "belt_harness_injured = 0 \n",
        "belt_injured = 0 \n",
        "airbag_belt_harness_injured = 0 \n",
        "child_restraint_injured = 0 \n",
        "airbag_injured = 0 \n",
        "airbag_belt_injured = 0 \n",
        "harness_injured = 0\n",
        "airbag_child_injured = 0 \n",
        " \n",
        "#iterates through the dataset to find the number of injuries for the occupants based on what safety equipment was deployed \n",
        "for index, rows in df.iterrows():\n",
        "  if rows['SAFETY_EQUIPMENT'] == 'Lap Belt & Harness' and rows['PERSON_INJURY']=='Injured' and rows['PERSON_TYPE'] == 'Occupant':\n",
        "    belt_harness_injured += 1\n",
        "  elif rows['SAFETY_EQUIPMENT'] == 'Lap Belt' and rows['PERSON_INJURY']=='Injured' and rows['PERSON_TYPE'] == 'Occupant':\n",
        "    belt_injured += 1\n",
        "  elif rows['SAFETY_EQUIPMENT'] == 'Air Bag Deployed/Lap Belt/Harness' and rows['PERSON_INJURY']=='Injured'and rows['PERSON_TYPE'] == 'Occupant':\n",
        "    airbag_belt_harness_injured += 1 \n",
        "  elif rows['SAFETY_EQUIPMENT'] == 'Child Restraint Only'and rows['PERSON_INJURY']=='Injured' and rows['PERSON_TYPE'] == 'Occupant':\n",
        "    child_restraint_injured += 1 \n",
        "  elif rows['SAFETY_EQUIPMENT'] == 'Air Bag Deployed' and rows['PERSON_INJURY']=='Injured' and rows['PERSON_TYPE'] == 'Occupant':\n",
        "    airbag_injured += 1\n",
        "  elif rows['SAFETY_EQUIPMENT'] == 'Air Bag Deployed/Lap Belt'and rows['PERSON_INJURY']=='Injured' and rows['PERSON_TYPE'] == 'Occupant':\n",
        "    airbag_belt_injured += 1\n",
        "  elif rows['SAFETY_EQUIPMENT'] == 'Harness' and rows['PERSON_INJURY']=='Injured' and rows['PERSON_TYPE'] == 'Occupant':\n",
        "    harness_injured += 1\n",
        "  elif rows['SAFETY_EQUIPMENT'] == 'Air Bag Deployed/Child Restraint' and rows['PERSON_INJURY']=='Injured'and rows['PERSON_TYPE'] == 'Occupant':\n",
        "    airbag_child_injured += 1\n",
        "\n",
        "#This creates a bar graph showing which safety equipment was used and the number of injuries\n",
        "safety_equipment = [\"Belt&Harness\", \"Belt\", \"Airbag/Belt/Harness\", \"Child Restraint\", \"Airbag\", \n",
        "                    \"Airbag & Belt\", \"Harness\", \"Airbag & Child\"]\n",
        "injured = [belt_harness_injured, belt_injured, airbag_belt_harness_injured, child_restraint_injured,\n",
        "           airbag_injured, airbag_belt_injured, harness_injured, airbag_child_injured]\n",
        "plt.figure(figsize=(13,7))\n",
        "plt.bar(safety_equipment, injured, 0.4, label = 'Injured')\n",
        "plt.xlabel(\"Safety Equipment\")\n",
        "plt.ylabel(\"Count\")\n",
        "plt.title(\"Safety Equipment Vs Injuries\")\n",
        "plt.legend()\n",
        "plt.show()"
      ],
      "metadata": {
        "colab": {
          "base_uri": "https://localhost:8080/",
          "height": 458
        },
        "id": "Asqk2id_7SII",
        "outputId": "92d3c60c-df6e-459e-ce84-60e3fa5d018c"
      },
      "execution_count": null,
      "outputs": [
        {
          "output_type": "display_data",
          "data": {
            "image/png": "[encoded data removed]",
            "text/plain": [
              "<Figure size 936x504 with 1 Axes>"
            ]
          },
          "metadata": {
            "needs_background": "light"
          }
        }
      ]
    },
    {
      "cell_type": "markdown",
      "source": [
        "Based on the graph above we can see that the injuries decrease a lot as soon as airbags are brought into the picture. So when an individual only has a belt or belt and harness on we see the number of injuries go up. The number of injuries for belt is lower than belt and harness and we think that is because most individuals wear both the belt and harness while driving so the number of people wearing a belt is very low, thus the injuries being lower. So the safety feature and number of injuries for the occupant is correlated based on this bar graph "
      ],
      "metadata": {
        "id": "OtImEFiA7nym"
      }
    },
    {
      "cell_type": "markdown",
      "source": [
        "We will now compare the type of person that was involved in the accident and whether they were injured or killed. From the output below, we can see that the number of injuries was clearly a lot larger than the number of kills for each respective type of person. "
      ],
      "metadata": {
        "id": "Oa16bDHrSm8H"
      }
    },
    {
      "cell_type": "code",
      "source": [
        "df.groupby([\"PERSON_TYPE\", \"PERSON_INJURY\"]).size()"
      ],
      "metadata": {
        "colab": {
          "base_uri": "https://localhost:8080/"
        },
        "id": "OlXRKb0wSXnv",
        "outputId": "7e7558b7-3173-4274-dc7e-d81d3b34cc9e"
      },
      "execution_count": null,
      "outputs": [
        {
          "output_type": "execute_result",
          "data": {
            "text/plain": [
              "PERSON_TYPE      PERSON_INJURY\n",
              "Bicyclist        Injured           4448\n",
              "                 Killed              16\n",
              "Occupant         Injured          32791\n",
              "                 Killed             112\n",
              "Other Motorized  Injured           1876\n",
              "                 Killed              11\n",
              "Pedestrian       Injured           6301\n",
              "                 Killed             114\n",
              "dtype: int64"
            ]
          },
          "metadata": {},
          "execution_count": 33
        }
      ]
    },
    {
      "cell_type": "markdown",
      "source": [
        "The bar graph below shows how pedestrians and occupants of the car faced about the same number of injuries and kills, whereas bicyclists and other motorized individuals faced a lot fewer deaths. We think that this is because the number of accidents with bicyclists is a lot lower than with pedestrians and people riding bicyles have helmets and knee pads which protect them where as pedestrains do not have any sort of protection making their death rate higher. Also occupants number of deaths is lower than pedestrians but still very high since the number of accidents for the occupant is higher than all the other person types but their death rate is lower due to the safety features in a car. "
      ],
      "metadata": {
        "id": "PVKROdziS41e"
      }
    },
    {
      "cell_type": "code",
      "source": [
        "kill_p = 0\n",
        "kill_o = 0\n",
        "kill_b = 0\n",
        "kill_other = 0\n",
        "injure_p = 0\n",
        "injure_o = 0\n",
        "injure_b = 0\n",
        "injure_other = 0\n",
        "\n",
        "# iterates through the columns and incremenets respective variables\n",
        "for index, rows in df.iterrows():\n",
        "  if rows[\"PERSON_TYPE\"] == \"Pedestrian\" and rows[\"PERSON_INJURY\"] == \"Killed\":\n",
        "    kill_p += 1\n",
        "  elif rows[\"PERSON_TYPE\"] == \"Pedestrian\" and rows[\"PERSON_INJURY\"] == \"Injured\":\n",
        "    injure_p += 1\n",
        "  elif rows[\"PERSON_TYPE\"] == \"Occupant\" and rows[\"PERSON_INJURY\"] == \"Killed\":\n",
        "    kill_o += 1\n",
        "  elif rows[\"PERSON_TYPE\"] == \"Occupant\" and rows[\"PERSON_INJURY\"] == \"Injured\":\n",
        "    injure_o += 1\n",
        "  elif rows[\"PERSON_TYPE\"] == \"Bicyclist\" and rows[\"PERSON_INJURY\"] == \"Killed\": \n",
        "    kill_b += 1\n",
        "  elif rows[\"PERSON_TYPE\"] == \"Bicyclist\" and rows[\"PERSON_INJURY\"] == \"Injured\": \n",
        "    injure_b += 1\n",
        "  elif rows[\"PERSON_TYPE\"] == \"Other Motorized\" and rows[\"PERSON_INJURY\"] == \"Killed\":\n",
        "    kill_other += 1\n",
        "  elif rows[\"PERSON_TYPE\"] == \"Other Motorized\" and rows[\"PERSON_INJURY\"] == \"Injured\":\n",
        "    injure_other += 1\n",
        "\n",
        "# creates lists for plotting purposes\n",
        "person_type = [\"Pedestrian\", \"Occupant\", \"Bicyclist\", \"Other Motorized\"]\n",
        "number_kills = [kill_p, kill_o, kill_b, kill_other]\n",
        "number_injured = [injure_p, injure_o, injure_b, injure_other]\n",
        "\n",
        "# plots person type vs number of deaths \n",
        "plt.bar(person_type, number_kills)\n",
        "plt.title('Person Type vs. Number of Deaths')\n",
        "plt.xlabel('Person Type')\n",
        "plt.ylabel('Number of Deaths')\n"
      ],
      "metadata": {
        "colab": {
          "base_uri": "https://localhost:8080/",
          "height": 312
        },
        "id": "B1HkPCNmSaiQ",
        "outputId": "9c3bf992-014e-49c2-d592-f24ca2998559"
      },
      "execution_count": null,
      "outputs": [
        {
          "output_type": "execute_result",
          "data": {
            "text/plain": [
              "Text(0, 0.5, 'Number of Deaths')"
            ]
          },
          "metadata": {},
          "execution_count": 34
        },
        {
          "output_type": "display_data",
          "data": {
            "image/png": "[encoded data removed]",
            "text/plain": [
              "<Figure size 432x288 with 1 Axes>"
            ]
          },
          "metadata": {
            "needs_background": "light"
          }
        }
      ]
    },
    {
      "cell_type": "markdown",
      "source": [
        "The graph below shows that mainly occupants of the car are injured, as opposed to pedestrians, bicyclists, and other motorized individuals. We also think this is the case again because the number of accidents occupants get in is much higher than that of other person types so the number of injuries is much greater. Pedstrain is the next highest which makes sense again since they have no form of protection against them and then bicyclists who have helmets followed by other moterized individuals. "
      ],
      "metadata": {
        "id": "HDvSjRNQTUcN"
      }
    },
    {
      "cell_type": "code",
      "source": [
        "# plots person type vs number of deaths \n",
        "plt.bar(person_type, number_injured)\n",
        "plt.title('Person Type vs. Number of Injuries')\n",
        "plt.xlabel('Person Type')\n",
        "plt.ylabel('Number of Injuries')"
      ],
      "metadata": {
        "colab": {
          "base_uri": "https://localhost:8080/",
          "height": 312
        },
        "id": "adHzk6-FSbRQ",
        "outputId": "ef1f45c4-e544-478e-8cea-69db5773d29c"
      },
      "execution_count": null,
      "outputs": [
        {
          "output_type": "execute_result",
          "data": {
            "text/plain": [
              "Text(0, 0.5, 'Number of Injuries')"
            ]
          },
          "metadata": {},
          "execution_count": 35
        },
        {
          "output_type": "display_data",
          "data": {
            "image/png": "[encoded data removed]",
            "text/plain": [
              "<Figure size 432x288 with 1 Axes>"
            ]
          },
          "metadata": {
            "needs_background": "light"
          }
        }
      ]
    },
    {
      "cell_type": "markdown",
      "source": [
        "Now that we have seen how crashes in NYC relate to gender, time and month as well as which injuries lead to death, how safety equipment plays a role in preventing injuries and which people are injured or killed the most in the accidents between vehicles and pedestrians, we will perform our machine learning model in the next step "
      ],
      "metadata": {
        "id": "ObPp6iCbYOvw"
      }
    },
    {
      "cell_type": "markdown",
      "source": [
        "###**Analysis, Hypothesis Testing and Machine Learning:**\n",
        "\n",
        "During this step, we will attempt to perform a modeling technique called linear regression to create a predictive model of our data, which will allow us to predict future values that are not present in our data. Our data only gives data for accidents that occur from January 1st to November 16th 2021, so we can predict the values of November and December using our model. \n",
        "\n",
        "In order to see whether the number of accidents were correlated to the month (ex: higher in winter months, etc.), we decided to create a linear regression model in order to delve deeper into the model. Specifically, we will be modeling the frequency of accidents per month in 2021 in order to predict the number of accidents for November and December. The reason for predicting November as well is because the dataset stopped updating the data after November 16, so the frequency provided was not sufficient. \n",
        "\n",
        "To start off, we first calculate the frequency of accidents for each month and store them into their respective lists. We remove data from the month of November due to the reason previously mentioned. We then created a scatter plot of the month vs frequency of accidents per month."
      ],
      "metadata": {
        "id": "RnakEiF6QF0f"
      }
    },
    {
      "cell_type": "code",
      "source": [
        "df['CRASH_DATE'] = pd.to_datetime(df['CRASH_DATE'])\n",
        "\n",
        "# puts the unique elements of the months (1-11) into list\n",
        "month = df['CRASH_DATE'].dt.month.astype(int).unique()\n",
        "# sorts the list in increasing order (Jan - November)\n",
        "month = sorted(month)\n",
        "# puts the frequenecy of each month into list\n",
        "counts = df['CRASH_DATE'].dt.month.value_counts().sort_index().tolist()\n",
        "# deletes data from November\n",
        "month.pop()\n",
        "counts.pop()\n",
        "\n",
        "counts = np.array(counts)\n",
        "month = np.array(month)\n",
        "\n",
        "y_axis = counts\n",
        "x_axis = month.reshape(-1, 1)\n",
        "\n",
        "# creates scatter plot of month vs frequency of accidents\n",
        "plt.scatter(month, counts)\n",
        "plt.title(\"Frequency of Accidents per month\")\n",
        "plt.xlabel(\"Month\")\n",
        "plt.ylabel(\"Frequency\")\n",
        "plt.show()"
      ],
      "metadata": {
        "colab": {
          "base_uri": "https://localhost:8080/",
          "height": 295
        },
        "id": "GRmJ9RMcQJ4X",
        "outputId": "01856933-ab34-42c5-e265-b25e0446801c"
      },
      "execution_count": null,
      "outputs": [
        {
          "output_type": "display_data",
          "data": {
            "image/png": "[encoded data removed]",
            "text/plain": [
              "<Figure size 432x288 with 1 Axes>"
            ]
          },
          "metadata": {
            "needs_background": "light"
          }
        }
      ]
    },
    {
      "cell_type": "markdown",
      "source": [
        "It is clear that the trend above is positive, showing that the frequency of accidents increase throughout the year. To obtain a linear model that displays a line through the data, we will use the linear_model module from sklearn. This will create a line that will fit the data, when given X and Y values. "
      ],
      "metadata": {
        "id": "-SxFZlA7QM46"
      }
    },
    {
      "cell_type": "code",
      "source": [
        "# creates a 2D array\n",
        "month_ = []\n",
        "for m in month:\n",
        "    month_.append([m])\n",
        "# plots data points\n",
        "plt.plot(month,counts,'o')\n",
        "\n",
        "# creates linear model for data, using data from month and counts arrays\n",
        "mod = linear_model.LinearRegression()\n",
        "mod.fit(month_, counts)\n",
        "predicted = mod.predict(month_)\n",
        "\n",
        "# plots the model\n",
        "plt.plot(month, predicted)\n",
        "plt.title(\"Frequency of Accidents per month\")\n",
        "plt.xlabel(\"Month\")\n",
        "plt.ylabel(\"Frequency\")\n",
        "plt.show()"
      ],
      "metadata": {
        "colab": {
          "base_uri": "https://localhost:8080/",
          "height": 295
        },
        "id": "07lEV7gZQPOU",
        "outputId": "3943e0d4-3c1d-4f36-e1a7-dc88dedb44d5"
      },
      "execution_count": null,
      "outputs": [
        {
          "output_type": "display_data",
          "data": {
            "image/png": "[encoded data removed]",
            "text/plain": [
              "<Figure size 432x288 with 1 Axes>"
            ]
          },
          "metadata": {
            "needs_background": "light"
          }
        }
      ]
    },
    {
      "cell_type": "markdown",
      "source": [
        "The call mod.fit(X,Y) allows for the data to be read and for a model to be created based on the data. Our model clearly produces a line that attemps to fit our data points. In order to see how well the line fits our data, we will look at the R^2 value. The closer this value is to 1, the better our model fits the data, and the closer it is to 0, the worse it fits the data. We will now print the R^2 value of the model:"
      ],
      "metadata": {
        "id": "yOmJoUTrQQ8J"
      }
    },
    {
      "cell_type": "code",
      "source": [
        "# prints R^2 value\n",
        "print(mod.score(month_,counts))"
      ],
      "metadata": {
        "colab": {
          "base_uri": "https://localhost:8080/"
        },
        "id": "-eAHghOBQUlL",
        "outputId": "266e239f-8919-4fd1-91fd-d0f7eda46e64"
      },
      "execution_count": null,
      "outputs": [
        {
          "output_type": "stream",
          "name": "stdout",
          "text": [
            "0.7146345234377098\n"
          ]
        }
      ]
    },
    {
      "cell_type": "markdown",
      "source": [
        "The R^2 value is about 0.71, which is a relatively okay score. Thus, we can use the model above to predict the frequency of crashes for November and December."
      ],
      "metadata": {
        "id": "bKLipR89QWUY"
      }
    },
    {
      "cell_type": "code",
      "source": [
        "# predicts value for November\n",
        "mod.predict([[11]])"
      ],
      "metadata": {
        "colab": {
          "base_uri": "https://localhost:8080/"
        },
        "id": "cjSY6yR6QZCv",
        "outputId": "b4ae37dd-c01b-4651-9813-ee96ad9dae39"
      },
      "execution_count": null,
      "outputs": [
        {
          "output_type": "execute_result",
          "data": {
            "text/plain": [
              "array([5776.8])"
            ]
          },
          "metadata": {},
          "execution_count": 28
        }
      ]
    },
    {
      "cell_type": "code",
      "source": [
        "# predicts value for December\n",
        "mod.predict([[12]])"
      ],
      "metadata": {
        "colab": {
          "base_uri": "https://localhost:8080/"
        },
        "id": "mT37v21mQdWJ",
        "outputId": "f8d74a79-c089-452f-9a19-d12ff3828392"
      },
      "execution_count": null,
      "outputs": [
        {
          "output_type": "execute_result",
          "data": {
            "text/plain": [
              "array([6039.50909091])"
            ]
          },
          "metadata": {},
          "execution_count": 29
        }
      ]
    },
    {
      "cell_type": "markdown",
      "source": [
        "Based on the output above, our model predicts that there will be about 5776 in November and 6039 in December. However, it is important to take into consideration that this data is only for 1 year. The dataset is extremely specific, and our predictions may not be accurate and reliable until we have access to previous years. \n",
        "\n",
        "Besides a linear model, we can also fit our data using a polynomial function using the PolynomialFeatures module from sklearn. Below we will model our data using a polynomial function with degree = 2.\n"
      ],
      "metadata": {
        "id": "566hpDftQchB"
      }
    },
    {
      "cell_type": "code",
      "source": [
        "# Polynomial Regression\n",
        "\n",
        "plt.plot(month,counts,'o')\n",
        "\n",
        "# creates polynomial model for data, using data from month and counts arrays (degree 2)\n",
        "poly = PolynomialFeatures(degree=2)\n",
        "poly_months = poly.fit_transform(month_)\n",
        "mod.fit(poly_months,counts)\n",
        "\n",
        "poly_pred = mod.predict(poly_months)\n",
        "plt.title(\"Frequency of accidents per month\")\n",
        "plt.xlabel(\"Month\")\n",
        "plt.ylabel(\"Frequency\")\n",
        "plt.plot(month,poly_pred)\n",
        "\n",
        "plt.show()\n",
        "print(mod.score(poly_months,counts))"
      ],
      "metadata": {
        "colab": {
          "base_uri": "https://localhost:8080/",
          "height": 312
        },
        "id": "7hcuppTlQhZj",
        "outputId": "d89e444d-9d4d-4a2a-8635-f0952ecc5bd3"
      },
      "execution_count": null,
      "outputs": [
        {
          "output_type": "display_data",
          "data": {
            "image/png": "[encoded data removed]",
            "text/plain": [
              "<Figure size 432x288 with 1 Axes>"
            ]
          },
          "metadata": {
            "needs_background": "light"
          }
        },
        {
          "output_type": "stream",
          "name": "stdout",
          "text": [
            "0.8553924711226452\n"
          ]
        }
      ]
    },
    {
      "cell_type": "markdown",
      "source": [
        "Our R^2 value has clearly increased to 0.855, showing that this model fits our data better than the linear model. \n",
        "\n",
        "We will now try a polynomial model with degree = 3. "
      ],
      "metadata": {
        "id": "szBT9pEjQjft"
      }
    },
    {
      "cell_type": "code",
      "source": [
        "plt.plot(month,counts,'o')\n",
        "\n",
        "# creates polynomial model for data, using data from month and counts arrays (degree 3)\n",
        "poly = PolynomialFeatures(degree=3)\n",
        "poly_months = poly.fit_transform(month_)\n",
        "mod.fit(poly_months,counts)\n",
        "\n",
        "# plots the model\n",
        "poly_pred = mod.predict(poly_months)\n",
        "plt.title(\"Frequency of accidents per month\")\n",
        "plt.xlabel(\"Month\")\n",
        "plt.ylabel(\"Frequency\")\n",
        "plt.plot(month,poly_pred)\n",
        "\n",
        "plt.show()\n",
        "# prints R^2 value\n",
        "print(mod.score(poly_months,counts))"
      ],
      "metadata": {
        "colab": {
          "base_uri": "https://localhost:8080/",
          "height": 312
        },
        "id": "Nc_x3mwPQl3Q",
        "outputId": "8d90ff58-a36c-485e-8c86-2ebdac079e92"
      },
      "execution_count": null,
      "outputs": [
        {
          "output_type": "display_data",
          "data": {
            "image/png": "[encoded data removed]",
            "text/plain": [
              "<Figure size 432x288 with 1 Axes>"
            ]
          },
          "metadata": {
            "needs_background": "light"
          }
        },
        {
          "output_type": "stream",
          "name": "stdout",
          "text": [
            "0.8649560410910498\n"
          ]
        }
      ]
    },
    {
      "cell_type": "markdown",
      "source": [
        "Our R^2 has increased again to 0.865. However, it is usually not advised to increase the degree as it tends to fit the data unnaturally, seen above. Therefore, we will stick with our linear model. "
      ],
      "metadata": {
        "id": "8cv32_tIQpDv"
      }
    },
    {
      "cell_type": "markdown",
      "source": [
        "## **Conclusion** \n",
        "\n",
        "We will now attempt to analyze our data in order to draw conclusions and predictions. \n",
        "\n",
        "Based on our observations through various graphs and modeling techniques that we used, we can conclude that within NYC:\n",
        "1. accidents tend to increase throughout the year, so it is important to remain cautious, alert, and vigilant while driving or simply walking on the streets. \n",
        "2. accidents typically occur at the highest rate around the afternoon time. This past year, 4-6pm was the most frequent time of accidents. This could very easily be related to rush hour, where many are leaving their work offices to go back home. Of course, in NYC however, every hour is rush hour due to the amount of traffic prevalent within the city.  \n",
        "3. injuries are less frequent due to motor vehicle accidents when airbags are involved. This is a good indication that vehicles should always be checked to ensure that all safety equipment, especially airbags, are fully functional. \n",
        "\n",
        "Overall, the above conclusions were made based on data from 2021 in NYC. It is important to note, however, that the analysis we conducted could be unreliable. Because our dataset was so specific, focused only on one year within one city, we cannot jump to conclusions safely. In addition, due to the pandemic in 2021 some of this data can be unreliable because the city would not have had as many people as it usually does. In order to accurately make predictions and conclusions, we would expand the areas we were observing and potentially acquire data from previous years. This would give us a holistic picture based on reliable data from a vast time period and area coverage. \n",
        "\n"
      ],
      "metadata": {
        "id": "IjCf1XKaWXai"
      }
    }
  ]
}